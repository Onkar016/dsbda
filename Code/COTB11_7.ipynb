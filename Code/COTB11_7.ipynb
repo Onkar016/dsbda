{
 "cells": [
  {
   "cell_type": "code",
   "execution_count": 1,
   "id": "66d7cdfd",
   "metadata": {},
   "outputs": [],
   "source": [
    "import pandas as pd\n",
    "import nltk\n",
    "import re\n",
    "from nltk.tokenize import sent_tokenize\n",
    "from nltk.tokenize import word_tokenize\n",
    "from nltk.corpus import stopwords\n",
    "from nltk.stem import PorterStemmer\n",
    "from nltk.stem import WordNetLemmatizer\n",
    "from nltk.tokenize import word_tokenize"
   ]
  },
  {
   "cell_type": "code",
   "execution_count": 2,
   "id": "04b31206",
   "metadata": {
    "scrolled": true
   },
   "outputs": [
    {
     "name": "stderr",
     "output_type": "stream",
     "text": [
      "[nltk_data] Error loading punkt: <urlopen error [Errno 11001]\n",
      "[nltk_data]     getaddrinfo failed>\n",
      "[nltk_data] Error loading stopwords: <urlopen error [Errno 11001]\n",
      "[nltk_data]     getaddrinfo failed>\n",
      "[nltk_data] Error loading wordnet: <urlopen error [Errno 11001]\n",
      "[nltk_data]     getaddrinfo failed>\n",
      "[nltk_data] Error loading averaged_perceptron_tagger: <urlopen error\n",
      "[nltk_data]     [Errno 11001] getaddrinfo failed>\n"
     ]
    },
    {
     "data": {
      "text/plain": [
       "False"
      ]
     },
     "execution_count": 2,
     "metadata": {},
     "output_type": "execute_result"
    }
   ],
   "source": [
    "nltk.download('punkt')\n",
    "nltk.download('stopwords')\n",
    "nltk.download('wordnet')\n",
    "nltk.download('averaged_perceptron_tagger')"
   ]
  },
  {
   "cell_type": "code",
   "execution_count": null,
   "id": "f58668ea",
   "metadata": {},
   "outputs": [],
   "source": [
    "text=\"Tokenization is the first step in text analytics. The process of breaking down a text paragraph into smaller chunks such as words or sentences is called Tokenization.\""
   ]
  },
  {
   "cell_type": "code",
   "execution_count": 4,
   "id": "e21c3e46",
   "metadata": {},
   "outputs": [
    {
     "name": "stdout",
     "output_type": "stream",
     "text": [
      "['Tokenization is the first step in text analytics.', 'The process of breaking down a text paragraph into smaller chunks such as words or sentences is called Tokenization.']\n",
      "['Tokenization', 'is', 'the', 'first', 'step', 'in', 'text', 'analytics', '.', 'The', 'process', 'of', 'breaking', 'down', 'a', 'text', 'paragraph', 'into', 'smaller', 'chunks', 'such', 'as', 'words', 'or', 'sentences', 'is', 'called', 'Tokenization', '.']\n"
     ]
    }
   ],
   "source": [
    "tokenized_text=sent_tokenize(text)\n",
    "print(tokenized_text)\n",
    "tokenized_word=word_tokenize(text)\n",
    "print(tokenized_word)"
   ]
  },
  {
   "cell_type": "code",
   "execution_count": 5,
   "id": "d81d15e1",
   "metadata": {},
   "outputs": [
    {
     "name": "stdout",
     "output_type": "stream",
     "text": [
      "{'has', 'haven', 'hers', 'both', 'his', 'have', 'isn', \"they've\", 'up', 'our', 'were', \"they'd\", 'myself', 'there', 'them', 'who', 'more', 'an', 'than', \"we've\", 'what', \"shouldn't\", 'again', 'does', \"needn't\", \"that'll\", 'those', \"i'd\", 'ours', \"isn't\", 'don', 'mustn', 'hasn', 'as', 'or', \"she'd\", 'to', 'out', 'from', 'on', 'y', 'of', 'above', 'further', 'yourself', \"you're\", \"it'll\", 'ourselves', 'doing', 'against', 'in', \"he'd\", 'before', \"didn't\", 'own', 'o', 'just', 'over', \"aren't\", \"he'll\", 'ma', \"they're\", 'such', 'yourselves', 'you', 'down', 'am', 'other', 'off', 'being', 'its', 'is', 'be', 'where', 'doesn', 'this', 'didn', 'did', 'for', 'all', \"you've\", 'm', 'each', 'into', \"it'd\", \"should've\", \"couldn't\", \"i'm\", 'and', \"mustn't\", 'same', 'whom', 're', 'couldn', \"she's\", 'only', 'shan', 'my', 'she', 'so', 'having', 'when', \"don't\", 'had', 'yours', \"we're\", 'll', \"doesn't\", 'until', 'ain', 'they', 'few', \"he's\", 'a', 'i', \"she'll\", 'with', 'here', 'no', 't', 'we', 'through', 'hadn', \"they'll\", 'will', 'aren', 'that', 'because', \"wouldn't\", 'during', 'by', 'some', 'himself', 'how', \"won't\", \"you'll\", 'her', 'these', 'him', 'after', 'was', \"we'll\", \"shan't\", 'most', 'are', 'very', 'while', 'should', 'under', 'wouldn', 'won', 'about', \"it's\", 'once', 'the', 've', \"hadn't\", 'me', 'shouldn', \"mightn't\", 'their', 'theirs', 's', 'wasn', 'been', 'between', 'needn', 'too', 'weren', \"wasn't\", 'at', 'itself', \"i've\", \"you'd\", 'but', 'your', 'herself', 'then', 'do', 'not', 'any', \"hasn't\", \"weren't\", 'if', 'can', 'mightn', \"we'd\", 'below', 'it', \"haven't\", 'now', 'he', 'd', 'which', 'nor', 'themselves', \"i'll\", 'why'}\n",
      "Tokenized Sentence: ['how', 'to', 'remove', 'stop', 'words', 'with', 'nltk', 'library', 'in', 'python']\n",
      "Filtered Sentence ['remove', 'stop', 'words', 'nltk', 'library', 'python']\n"
     ]
    }
   ],
   "source": [
    "stop_words=set(stopwords.words(\"english\"))\n",
    "print(stop_words)\n",
    "text=\"How to remove stop words with NLTK library in Python?\"\n",
    "text=re.sub('[^a-zA-Z]',' ',text)\n",
    "tokens=word_tokenize(text.lower())\n",
    "filtered_text=[]\n",
    "for w in tokens:\n",
    "    if w not in stop_words:\n",
    "        filtered_text.append(w)\n",
    "print(\"Tokenized Sentence:\",tokens)\n",
    "print(\"Filtered Sentence\",filtered_text)"
   ]
  },
  {
   "cell_type": "code",
   "execution_count": 6,
   "id": "db6d04e6",
   "metadata": {},
   "outputs": [
    {
     "name": "stdout",
     "output_type": "stream",
     "text": [
      "wait\n"
     ]
    }
   ],
   "source": [
    "e_words=[\"wait\",\"waiting\",\"waited\",\"waits\"]\n",
    "ps=PorterStemmer()\n",
    "for w in e_words:\n",
    "    rootWord=ps.stem(w)\n",
    "print(rootWord)"
   ]
  },
  {
   "cell_type": "code",
   "execution_count": 7,
   "id": "e52e7b69",
   "metadata": {},
   "outputs": [
    {
     "name": "stdout",
     "output_type": "stream",
     "text": [
      "Lemma for studies is <bound method WordNetLemmatizer.lemmatize of <WordNetLemmatizer>>\n",
      "Lemma for studying is <bound method WordNetLemmatizer.lemmatize of <WordNetLemmatizer>>\n",
      "Lemma for cries is <bound method WordNetLemmatizer.lemmatize of <WordNetLemmatizer>>\n",
      "Lemma for cry is <bound method WordNetLemmatizer.lemmatize of <WordNetLemmatizer>>\n"
     ]
    }
   ],
   "source": [
    "wordnet_lemmatizer=WordNetLemmatizer()\n",
    "text=\"studies studying cries cry\"\n",
    "tokenization=nltk.word_tokenize(text)\n",
    "for w in tokenization:\n",
    "     print(\"Lemma for {} is {}\".format(w,wordnet_lemmatizer.lemmatize))\n"
   ]
  },
  {
   "cell_type": "code",
   "execution_count": 9,
   "id": "5d447cd1",
   "metadata": {},
   "outputs": [],
   "source": [
    "import pandas as pd\n",
    "from sklearn.feature_extraction.text import TfidfVectorizer\n",
    "import math"
   ]
  },
  {
   "cell_type": "code",
   "execution_count": 10,
   "id": "0f7607dc",
   "metadata": {},
   "outputs": [],
   "source": [
    "documentA='Jupiter is the largest Planet'\n",
    "documentB='Mars is the fourth planet from the Sun'\n",
    "bagOfWordsA=documentA.split(' ')\n",
    "bagOfWordsB=documentB.split(' ')\n",
    "uniqueWords=set(bagOfWordsA).union(set(bagOfWordsB))\n",
    "numOfWordsA=dict.fromkeys(uniqueWords,0)\n",
    "for word in bagOfWordsA:\n",
    "    numOfWordsA[word]+=1\n",
    "    numOfWordsB=dict.fromkeys(uniqueWords,0)\n",
    "for word in bagOfWordsB:\n",
    "    numOfWordsB[word]+=1\n",
    "    "
   ]
  },
  {
   "cell_type": "code",
   "execution_count": 11,
   "id": "0a9afa71",
   "metadata": {},
   "outputs": [],
   "source": [
    "def computeTF(wordDict,bagOfWords):\n",
    "    tfDict={}\n",
    "    bagOfWordsCount=len(bagOfWords)\n",
    "    for word, count in wordDict.items():\n",
    "        tfDict[word]=count/float(bagOfWordsCount)\n",
    "    return tfDict\n",
    "tfA=computeTF(numOfWordsA, bagOfWordsA)\n",
    "tfB=computeTF(numOfWordsB, bagOfWordsB)"
   ]
  },
  {
   "cell_type": "code",
   "execution_count": 12,
   "id": "5d8d7ba7",
   "metadata": {},
   "outputs": [
    {
     "data": {
      "text/plain": [
       "{'fourth': 0.6931471805599453,\n",
       " 'Mars': 0.6931471805599453,\n",
       " 'from': 0.6931471805599453,\n",
       " 'Jupiter': 0.6931471805599453,\n",
       " 'Sun': 0.6931471805599453,\n",
       " 'the': 0.0,\n",
       " 'planet': 0.6931471805599453,\n",
       " 'Planet': 0.6931471805599453,\n",
       " 'is': 0.0,\n",
       " 'largest': 0.6931471805599453}"
      ]
     },
     "execution_count": 12,
     "metadata": {},
     "output_type": "execute_result"
    }
   ],
   "source": [
    "def computeIDF(documents):\n",
    "    N=len(documents)\n",
    "    idfDict=dict.fromkeys(documents[0].keys(),0)\n",
    "    for document in documents:\n",
    "        for word, val in document.items():\n",
    "            if val>0:\n",
    "                idfDict[word]+=1\n",
    "    for word, val in idfDict.items():\n",
    "        idfDict[word]=math.log(N/float(val))\n",
    "    return idfDict\n",
    "idfs=computeIDF([numOfWordsA,numOfWordsB])\n",
    "idfs"
   ]
  },
  {
   "cell_type": "code",
   "execution_count": 13,
   "id": "d21f8f83",
   "metadata": {},
   "outputs": [],
   "source": [
    "def computeTFIDF(tfBagOfWords,idfs):\n",
    "    tfidf={}\n",
    "    for word, val in tfBagOfWords.items():\n",
    "        tfidf[word]=val*idfs[word]\n",
    "    return tfidf\n",
    "tfidfA=computeTFIDF(tfA,idfs)\n",
    "tfidfB=computeTFIDF(tfB,idfs)\n",
    "df=pd.DataFrame([tfidfA,tfidfB])\n"
   ]
  },
  {
   "cell_type": "code",
   "execution_count": 14,
   "id": "7700142b",
   "metadata": {},
   "outputs": [
    {
     "data": {
      "text/html": [
       "<div>\n",
       "<style scoped>\n",
       "    .dataframe tbody tr th:only-of-type {\n",
       "        vertical-align: middle;\n",
       "    }\n",
       "\n",
       "    .dataframe tbody tr th {\n",
       "        vertical-align: top;\n",
       "    }\n",
       "\n",
       "    .dataframe thead th {\n",
       "        text-align: right;\n",
       "    }\n",
       "</style>\n",
       "<table border=\"1\" class=\"dataframe\">\n",
       "  <thead>\n",
       "    <tr style=\"text-align: right;\">\n",
       "      <th></th>\n",
       "      <th>fourth</th>\n",
       "      <th>Mars</th>\n",
       "      <th>from</th>\n",
       "      <th>Jupiter</th>\n",
       "      <th>Sun</th>\n",
       "      <th>the</th>\n",
       "      <th>planet</th>\n",
       "      <th>Planet</th>\n",
       "      <th>is</th>\n",
       "      <th>largest</th>\n",
       "    </tr>\n",
       "  </thead>\n",
       "  <tbody>\n",
       "    <tr>\n",
       "      <th>0</th>\n",
       "      <td>0.000000</td>\n",
       "      <td>0.000000</td>\n",
       "      <td>0.000000</td>\n",
       "      <td>0.138629</td>\n",
       "      <td>0.000000</td>\n",
       "      <td>0.0</td>\n",
       "      <td>0.000000</td>\n",
       "      <td>0.138629</td>\n",
       "      <td>0.0</td>\n",
       "      <td>0.138629</td>\n",
       "    </tr>\n",
       "    <tr>\n",
       "      <th>1</th>\n",
       "      <td>0.086643</td>\n",
       "      <td>0.086643</td>\n",
       "      <td>0.086643</td>\n",
       "      <td>0.000000</td>\n",
       "      <td>0.086643</td>\n",
       "      <td>0.0</td>\n",
       "      <td>0.086643</td>\n",
       "      <td>0.000000</td>\n",
       "      <td>0.0</td>\n",
       "      <td>0.000000</td>\n",
       "    </tr>\n",
       "  </tbody>\n",
       "</table>\n",
       "</div>"
      ],
      "text/plain": [
       "     fourth      Mars      from   Jupiter       Sun  the    planet    Planet  \\\n",
       "0  0.000000  0.000000  0.000000  0.138629  0.000000  0.0  0.000000  0.138629   \n",
       "1  0.086643  0.086643  0.086643  0.000000  0.086643  0.0  0.086643  0.000000   \n",
       "\n",
       "    is   largest  \n",
       "0  0.0  0.138629  \n",
       "1  0.0  0.000000  "
      ]
     },
     "execution_count": 14,
     "metadata": {},
     "output_type": "execute_result"
    }
   ],
   "source": [
    "df"
   ]
  }
 ],
 "metadata": {
  "kernelspec": {
   "display_name": "Python 3",
   "language": "python",
   "name": "python3"
  },
  "language_info": {
   "codemirror_mode": {
    "name": "ipython",
    "version": 3
   },
   "file_extension": ".py",
   "mimetype": "text/x-python",
   "name": "python",
   "nbconvert_exporter": "python",
   "pygments_lexer": "ipython3",
   "version": "3.11.5"
  }
 },
 "nbformat": 4,
 "nbformat_minor": 5
}
